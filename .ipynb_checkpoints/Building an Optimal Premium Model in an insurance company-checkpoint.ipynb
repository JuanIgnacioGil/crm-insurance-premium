{
 "cells": [
  {
   "cell_type": "code",
   "execution_count": 154,
   "metadata": {},
   "outputs": [
    {
     "name": "stdout",
     "output_type": "stream",
     "text": [
      "The autoreload extension is already loaded. To reload it, use:\n",
      "  %reload_ext autoreload\n"
     ]
    },
    {
     "data": {
      "text/html": [
       "<script>requirejs.config({paths: { 'plotly': ['https://cdn.plot.ly/plotly-latest.min']},});if(!window.Plotly) {{require(['plotly'],function(plotly) {window.Plotly=plotly;});}}</script>"
      ],
      "text/vnd.plotly.v1+html": [
       "<script>requirejs.config({paths: { 'plotly': ['https://cdn.plot.ly/plotly-latest.min']},});if(!window.Plotly) {{require(['plotly'],function(plotly) {window.Plotly=plotly;});}}</script>"
      ]
     },
     "metadata": {},
     "output_type": "display_data"
    }
   ],
   "source": [
    "%load_ext autoreload\n",
    "%autoreload 2\n",
    "\n",
    "import pandas as pd\n",
    "import numpy as np\n",
    "\n",
    "from plotly.offline import download_plotlyjs, init_notebook_mode, plot, iplot\n",
    "init_notebook_mode(connected=True)\n",
    "\n",
    "from sklearn.linear_model import LogisticRegression\n",
    "from sklearn.model_selection import train_test_split\n",
    "\n",
    "import sys,os\n",
    "sys.path.append(os.getcwd())\n",
    "from descriptive_analysis import *"
   ]
  },
  {
   "cell_type": "markdown",
   "metadata": {},
   "source": [
    "# Building an Optimal Premium Model in an insurance company #\n",
    "\n",
    "## Problem description ##\n",
    "\n",
    "We are interested in solving a CRM problem for an insurance company. The tasks to be achieved are:\n",
    "\n",
    "* Finding the ideal target, in this case, people who are more likely to contract the insurance.\n",
    "* Obtaining the premium we should offer to each client, it means, the optimal price that should be offered to the clients.\n",
    "* Calculating the difference between offering the premium randomly and optimally using the information obtained in the model.\n",
    "\n",
    "\n",
    "## Working with data ##\n",
    "\n",
    "Two databases with clients’ information are available.\n",
    "\n",
    "In the first one we have the information of 20.000 clients which have already been contacted; 9% of them have contracted the product.\n",
    " \n",
    "Important data is included such as the premium offered, the number of products that they have already bought, the number of years that they have been clients of the company and the socioeconomic status (an economic and sociological measure combined with the person’s work experience and its individual’s or family’s economic and social position in relation to others, based on income, education, and occupation).\n",
    "\n",
    "In the second database of non-previously contacted clients, we have the same information of 10.000 clients but only 5.000 are going to be contacted due to mechanical restrictions.\n",
    "\n",
    "Is worthwhile offering the same premium to all the clients? Is better focusing on people with some characteristics than choosing the clients randomly? "
   ]
  },
  {
   "cell_type": "code",
   "execution_count": 255,
   "metadata": {},
   "outputs": [],
   "source": [
    "xls = pd.ExcelFile('Database.xlsx')\n",
    "variable_description = xls.parse(0)\n",
    "db1 = xls.parse(1)\n",
    "db2 = xls.parse(2)"
   ]
  },
  {
   "cell_type": "code",
   "execution_count": 9,
   "metadata": {},
   "outputs": [
    {
     "data": {
      "text/html": [
       "<div>\n",
       "<table border=\"1\" class=\"dataframe\">\n",
       "  <thead>\n",
       "    <tr style=\"text-align: right;\">\n",
       "      <th></th>\n",
       "      <th>Variable Name</th>\n",
       "      <th>Meaning</th>\n",
       "    </tr>\n",
       "  </thead>\n",
       "  <tbody>\n",
       "    <tr>\n",
       "      <th>0</th>\n",
       "      <td>Obs</td>\n",
       "      <td>Number of Observations</td>\n",
       "    </tr>\n",
       "    <tr>\n",
       "      <th>1</th>\n",
       "      <td>Sales</td>\n",
       "      <td>It indicates whether the client bought a produ...</td>\n",
       "    </tr>\n",
       "    <tr>\n",
       "      <th>2</th>\n",
       "      <td>Price Sensitivity</td>\n",
       "      <td>It indicates the client's sensitivity to the p...</td>\n",
       "    </tr>\n",
       "    <tr>\n",
       "      <th>3</th>\n",
       "      <td>PhoneType</td>\n",
       "      <td>Client's phone type: Fixed or Mobile</td>\n",
       "    </tr>\n",
       "    <tr>\n",
       "      <th>4</th>\n",
       "      <td>Email</td>\n",
       "      <td>It indicates whether the client's email is ava...</td>\n",
       "    </tr>\n",
       "    <tr>\n",
       "      <th>5</th>\n",
       "      <td>Tenure</td>\n",
       "      <td>Client's tenure (year when the person became a...</td>\n",
       "    </tr>\n",
       "    <tr>\n",
       "      <th>6</th>\n",
       "      <td>NumberofCampaigns</td>\n",
       "      <td>Number of times the client has been called</td>\n",
       "    </tr>\n",
       "    <tr>\n",
       "      <th>7</th>\n",
       "      <td>ProdActive</td>\n",
       "      <td>Number of active products</td>\n",
       "    </tr>\n",
       "    <tr>\n",
       "      <th>8</th>\n",
       "      <td>ProdBought</td>\n",
       "      <td>Number of different products previously bought</td>\n",
       "    </tr>\n",
       "    <tr>\n",
       "      <th>9</th>\n",
       "      <td>Premium Offered</td>\n",
       "      <td>Premium offered to the client</td>\n",
       "    </tr>\n",
       "    <tr>\n",
       "      <th>10</th>\n",
       "      <td>Phone Call Day</td>\n",
       "      <td>Day the phone call is received</td>\n",
       "    </tr>\n",
       "    <tr>\n",
       "      <th>11</th>\n",
       "      <td>CodeCategory</td>\n",
       "      <td>Category of the phone call answer</td>\n",
       "    </tr>\n",
       "    <tr>\n",
       "      <th>12</th>\n",
       "      <td>Birthdate</td>\n",
       "      <td>Client's birthdate</td>\n",
       "    </tr>\n",
       "    <tr>\n",
       "      <th>13</th>\n",
       "      <td>Product Type</td>\n",
       "      <td>It indicates the type of product that the clie...</td>\n",
       "    </tr>\n",
       "    <tr>\n",
       "      <th>14</th>\n",
       "      <td>Number of Semesters Paid</td>\n",
       "      <td>Number of semesters paid</td>\n",
       "    </tr>\n",
       "    <tr>\n",
       "      <th>15</th>\n",
       "      <td>Socieconomic Status</td>\n",
       "      <td>It indicates the client's socieconomic status</td>\n",
       "    </tr>\n",
       "    <tr>\n",
       "      <th>16</th>\n",
       "      <td>Province</td>\n",
       "      <td>Province where the client lives</td>\n",
       "    </tr>\n",
       "    <tr>\n",
       "      <th>17</th>\n",
       "      <td>Right Address</td>\n",
       "      <td>It indicates whether the client's address is c...</td>\n",
       "    </tr>\n",
       "    <tr>\n",
       "      <th>18</th>\n",
       "      <td>Living Area (m^2)</td>\n",
       "      <td>Estimated surface area of house</td>\n",
       "    </tr>\n",
       "    <tr>\n",
       "      <th>19</th>\n",
       "      <td>House Price</td>\n",
       "      <td>Estimated price of the house</td>\n",
       "    </tr>\n",
       "    <tr>\n",
       "      <th>20</th>\n",
       "      <td>Income</td>\n",
       "      <td>Estimated income</td>\n",
       "    </tr>\n",
       "    <tr>\n",
       "      <th>21</th>\n",
       "      <td>yearBuilt</td>\n",
       "      <td>It indicates when the client's house was built</td>\n",
       "    </tr>\n",
       "    <tr>\n",
       "      <th>22</th>\n",
       "      <td>House Insurance</td>\n",
       "      <td>Price of the house insurance</td>\n",
       "    </tr>\n",
       "    <tr>\n",
       "      <th>23</th>\n",
       "      <td>Pension Plan</td>\n",
       "      <td>Estimated amount of money the client would hav...</td>\n",
       "    </tr>\n",
       "    <tr>\n",
       "      <th>24</th>\n",
       "      <td>Estimated number of cars</td>\n",
       "      <td>Estimation of the number of cars owned by the ...</td>\n",
       "    </tr>\n",
       "    <tr>\n",
       "      <th>25</th>\n",
       "      <td>Probability of Second Residence</td>\n",
       "      <td>Probability of having a second residence</td>\n",
       "    </tr>\n",
       "    <tr>\n",
       "      <th>26</th>\n",
       "      <td>Credit</td>\n",
       "      <td>Estimation of the amount of credit that could ...</td>\n",
       "    </tr>\n",
       "    <tr>\n",
       "      <th>27</th>\n",
       "      <td>Savings</td>\n",
       "      <td>Estimation of the amount of money saved by the...</td>\n",
       "    </tr>\n",
       "    <tr>\n",
       "      <th>28</th>\n",
       "      <td>Number of Mobile Phones</td>\n",
       "      <td>Number of mobile phones</td>\n",
       "    </tr>\n",
       "    <tr>\n",
       "      <th>29</th>\n",
       "      <td>Number of Fixed Lines</td>\n",
       "      <td>Number of Land Lines</td>\n",
       "    </tr>\n",
       "    <tr>\n",
       "      <th>30</th>\n",
       "      <td>ADSL</td>\n",
       "      <td>It indicates whether the client has ADSL:1 (ye...</td>\n",
       "    </tr>\n",
       "    <tr>\n",
       "      <th>31</th>\n",
       "      <td>3G Devices</td>\n",
       "      <td>It indicates whether the client has 3G Devices...</td>\n",
       "    </tr>\n",
       "    <tr>\n",
       "      <th>32</th>\n",
       "      <td>Type of House</td>\n",
       "      <td>Type of house: Urban or Rural</td>\n",
       "    </tr>\n",
       "  </tbody>\n",
       "</table>\n",
       "</div>"
      ],
      "text/plain": [
       "                      Variable Name  \\\n",
       "0                               Obs   \n",
       "1                             Sales   \n",
       "2                 Price Sensitivity   \n",
       "3                         PhoneType   \n",
       "4                             Email   \n",
       "5                            Tenure   \n",
       "6                 NumberofCampaigns   \n",
       "7                        ProdActive   \n",
       "8                        ProdBought   \n",
       "9                   Premium Offered   \n",
       "10                   Phone Call Day   \n",
       "11                     CodeCategory   \n",
       "12                        Birthdate   \n",
       "13                     Product Type   \n",
       "14         Number of Semesters Paid   \n",
       "15              Socieconomic Status   \n",
       "16                         Province   \n",
       "17                    Right Address   \n",
       "18                Living Area (m^2)   \n",
       "19                      House Price   \n",
       "20                           Income   \n",
       "21                        yearBuilt   \n",
       "22                  House Insurance   \n",
       "23                     Pension Plan   \n",
       "24         Estimated number of cars   \n",
       "25  Probability of Second Residence   \n",
       "26                           Credit   \n",
       "27                          Savings   \n",
       "28          Number of Mobile Phones   \n",
       "29            Number of Fixed Lines   \n",
       "30                             ADSL   \n",
       "31                       3G Devices   \n",
       "32                    Type of House   \n",
       "\n",
       "                                              Meaning  \n",
       "0                              Number of Observations  \n",
       "1   It indicates whether the client bought a produ...  \n",
       "2   It indicates the client's sensitivity to the p...  \n",
       "3                Client's phone type: Fixed or Mobile  \n",
       "4   It indicates whether the client's email is ava...  \n",
       "5   Client's tenure (year when the person became a...  \n",
       "6          Number of times the client has been called  \n",
       "7                           Number of active products  \n",
       "8      Number of different products previously bought  \n",
       "9                       Premium offered to the client  \n",
       "10                     Day the phone call is received  \n",
       "11                  Category of the phone call answer  \n",
       "12                                 Client's birthdate  \n",
       "13  It indicates the type of product that the clie...  \n",
       "14                           Number of semesters paid  \n",
       "15      It indicates the client's socieconomic status  \n",
       "16                    Province where the client lives  \n",
       "17  It indicates whether the client's address is c...  \n",
       "18                    Estimated surface area of house  \n",
       "19                       Estimated price of the house  \n",
       "20                                   Estimated income  \n",
       "21     It indicates when the client's house was built  \n",
       "22                       Price of the house insurance  \n",
       "23  Estimated amount of money the client would hav...  \n",
       "24  Estimation of the number of cars owned by the ...  \n",
       "25           Probability of having a second residence  \n",
       "26  Estimation of the amount of credit that could ...  \n",
       "27  Estimation of the amount of money saved by the...  \n",
       "28                            Number of mobile phones  \n",
       "29                               Number of Land Lines  \n",
       "30  It indicates whether the client has ADSL:1 (ye...  \n",
       "31  It indicates whether the client has 3G Devices...  \n",
       "32                      Type of house: Urban or Rural  "
      ]
     },
     "execution_count": 9,
     "metadata": {},
     "output_type": "execute_result"
    }
   ],
   "source": [
    "variable_description"
   ]
  },
  {
   "cell_type": "code",
   "execution_count": 10,
   "metadata": {},
   "outputs": [
    {
     "name": "stderr",
     "output_type": "stream",
     "text": [
      "/usr/local/lib/python3.6/site-packages/numpy/lib/function_base.py:4274: RuntimeWarning: Invalid value encountered in percentile\n",
      "  interpolation=interpolation)\n"
     ]
    },
    {
     "data": {
      "text/html": [
       "<div>\n",
       "<table border=\"1\" class=\"dataframe\">\n",
       "  <thead>\n",
       "    <tr style=\"text-align: right;\">\n",
       "      <th></th>\n",
       "      <th>Obs</th>\n",
       "      <th>Sales</th>\n",
       "      <th>Price Sensitivity</th>\n",
       "      <th>Email</th>\n",
       "      <th>Tenure</th>\n",
       "      <th>NumberofCampaigns</th>\n",
       "      <th>ProdActive</th>\n",
       "      <th>ProdBought</th>\n",
       "      <th>Premium Offered</th>\n",
       "      <th>Birthdate</th>\n",
       "      <th>...</th>\n",
       "      <th>Income</th>\n",
       "      <th>yearBuilt</th>\n",
       "      <th>House Insurance</th>\n",
       "      <th>Pension Plan</th>\n",
       "      <th>Credit</th>\n",
       "      <th>Savings</th>\n",
       "      <th>Number of Mobile Phones</th>\n",
       "      <th>Number of Fixed Lines</th>\n",
       "      <th>ADSL</th>\n",
       "      <th>3G Devices</th>\n",
       "    </tr>\n",
       "  </thead>\n",
       "  <tbody>\n",
       "    <tr>\n",
       "      <th>count</th>\n",
       "      <td>20000.000000</td>\n",
       "      <td>20000.000000</td>\n",
       "      <td>1475.000000</td>\n",
       "      <td>20000.000000</td>\n",
       "      <td>20000.000000</td>\n",
       "      <td>20000.000000</td>\n",
       "      <td>20000.000000</td>\n",
       "      <td>20000.000000</td>\n",
       "      <td>20000.000000</td>\n",
       "      <td>9512.000000</td>\n",
       "      <td>...</td>\n",
       "      <td>1.486000e+04</td>\n",
       "      <td>14865.000000</td>\n",
       "      <td>14860.000000</td>\n",
       "      <td>1.486000e+04</td>\n",
       "      <td>1.486000e+04</td>\n",
       "      <td>1.484500e+04</td>\n",
       "      <td>7164.000000</td>\n",
       "      <td>7164.000000</td>\n",
       "      <td>7164.000000</td>\n",
       "      <td>7164.000000</td>\n",
       "    </tr>\n",
       "    <tr>\n",
       "      <th>mean</th>\n",
       "      <td>10000.500000</td>\n",
       "      <td>0.085750</td>\n",
       "      <td>3.792542</td>\n",
       "      <td>0.074450</td>\n",
       "      <td>2007.118950</td>\n",
       "      <td>3.709200</td>\n",
       "      <td>0.050700</td>\n",
       "      <td>0.320200</td>\n",
       "      <td>13.831877</td>\n",
       "      <td>1966.409062</td>\n",
       "      <td>...</td>\n",
       "      <td>5.802174e+04</td>\n",
       "      <td>1979.502657</td>\n",
       "      <td>7364.270664</td>\n",
       "      <td>3.728715e+04</td>\n",
       "      <td>1.696786e+04</td>\n",
       "      <td>3.055875e+04</td>\n",
       "      <td>1.504467</td>\n",
       "      <td>1.005444</td>\n",
       "      <td>0.502233</td>\n",
       "      <td>0.503769</td>\n",
       "    </tr>\n",
       "    <tr>\n",
       "      <th>std</th>\n",
       "      <td>5773.647028</td>\n",
       "      <td>0.280002</td>\n",
       "      <td>1.694535</td>\n",
       "      <td>0.262508</td>\n",
       "      <td>6.715032</td>\n",
       "      <td>4.156429</td>\n",
       "      <td>0.238186</td>\n",
       "      <td>0.706397</td>\n",
       "      <td>2.774808</td>\n",
       "      <td>11.478364</td>\n",
       "      <td>...</td>\n",
       "      <td>6.644060e+04</td>\n",
       "      <td>23.073381</td>\n",
       "      <td>8542.363258</td>\n",
       "      <td>4.239543e+04</td>\n",
       "      <td>1.945761e+04</td>\n",
       "      <td>7.872496e+04</td>\n",
       "      <td>1.120473</td>\n",
       "      <td>0.817475</td>\n",
       "      <td>0.500030</td>\n",
       "      <td>0.500021</td>\n",
       "    </tr>\n",
       "    <tr>\n",
       "      <th>min</th>\n",
       "      <td>1.000000</td>\n",
       "      <td>0.000000</td>\n",
       "      <td>1.000000</td>\n",
       "      <td>0.000000</td>\n",
       "      <td>1990.000000</td>\n",
       "      <td>2.000000</td>\n",
       "      <td>0.000000</td>\n",
       "      <td>0.000000</td>\n",
       "      <td>11.120000</td>\n",
       "      <td>1944.000000</td>\n",
       "      <td>...</td>\n",
       "      <td>2.190805e+03</td>\n",
       "      <td>1900.000000</td>\n",
       "      <td>186.013800</td>\n",
       "      <td>1.661723e+03</td>\n",
       "      <td>6.173887e+02</td>\n",
       "      <td>0.000000e+00</td>\n",
       "      <td>0.000000</td>\n",
       "      <td>0.000000</td>\n",
       "      <td>0.000000</td>\n",
       "      <td>0.000000</td>\n",
       "    </tr>\n",
       "    <tr>\n",
       "      <th>25%</th>\n",
       "      <td>5000.750000</td>\n",
       "      <td>0.000000</td>\n",
       "      <td>NaN</td>\n",
       "      <td>0.000000</td>\n",
       "      <td>2004.000000</td>\n",
       "      <td>2.000000</td>\n",
       "      <td>0.000000</td>\n",
       "      <td>0.000000</td>\n",
       "      <td>11.120000</td>\n",
       "      <td>NaN</td>\n",
       "      <td>...</td>\n",
       "      <td>NaN</td>\n",
       "      <td>NaN</td>\n",
       "      <td>NaN</td>\n",
       "      <td>NaN</td>\n",
       "      <td>NaN</td>\n",
       "      <td>NaN</td>\n",
       "      <td>NaN</td>\n",
       "      <td>NaN</td>\n",
       "      <td>NaN</td>\n",
       "      <td>NaN</td>\n",
       "    </tr>\n",
       "    <tr>\n",
       "      <th>50%</th>\n",
       "      <td>10000.500000</td>\n",
       "      <td>0.000000</td>\n",
       "      <td>NaN</td>\n",
       "      <td>0.000000</td>\n",
       "      <td>2010.000000</td>\n",
       "      <td>2.000000</td>\n",
       "      <td>0.000000</td>\n",
       "      <td>0.000000</td>\n",
       "      <td>14.500000</td>\n",
       "      <td>NaN</td>\n",
       "      <td>...</td>\n",
       "      <td>NaN</td>\n",
       "      <td>NaN</td>\n",
       "      <td>NaN</td>\n",
       "      <td>NaN</td>\n",
       "      <td>NaN</td>\n",
       "      <td>NaN</td>\n",
       "      <td>NaN</td>\n",
       "      <td>NaN</td>\n",
       "      <td>NaN</td>\n",
       "      <td>NaN</td>\n",
       "    </tr>\n",
       "    <tr>\n",
       "      <th>75%</th>\n",
       "      <td>15000.250000</td>\n",
       "      <td>0.000000</td>\n",
       "      <td>NaN</td>\n",
       "      <td>0.000000</td>\n",
       "      <td>2012.000000</td>\n",
       "      <td>4.000000</td>\n",
       "      <td>0.000000</td>\n",
       "      <td>0.000000</td>\n",
       "      <td>14.500000</td>\n",
       "      <td>NaN</td>\n",
       "      <td>...</td>\n",
       "      <td>NaN</td>\n",
       "      <td>NaN</td>\n",
       "      <td>NaN</td>\n",
       "      <td>NaN</td>\n",
       "      <td>NaN</td>\n",
       "      <td>NaN</td>\n",
       "      <td>NaN</td>\n",
       "      <td>NaN</td>\n",
       "      <td>NaN</td>\n",
       "      <td>NaN</td>\n",
       "    </tr>\n",
       "    <tr>\n",
       "      <th>max</th>\n",
       "      <td>20000.000000</td>\n",
       "      <td>1.000000</td>\n",
       "      <td>6.000000</td>\n",
       "      <td>1.000000</td>\n",
       "      <td>2013.000000</td>\n",
       "      <td>32.000000</td>\n",
       "      <td>3.000000</td>\n",
       "      <td>6.000000</td>\n",
       "      <td>21.850000</td>\n",
       "      <td>1984.000000</td>\n",
       "      <td>...</td>\n",
       "      <td>4.106372e+06</td>\n",
       "      <td>2012.000000</td>\n",
       "      <td>527866.417800</td>\n",
       "      <td>2.620520e+06</td>\n",
       "      <td>1.202556e+06</td>\n",
       "      <td>4.884174e+06</td>\n",
       "      <td>3.000000</td>\n",
       "      <td>2.000000</td>\n",
       "      <td>1.000000</td>\n",
       "      <td>1.000000</td>\n",
       "    </tr>\n",
       "  </tbody>\n",
       "</table>\n",
       "<p>8 rows × 23 columns</p>\n",
       "</div>"
      ],
      "text/plain": [
       "                Obs         Sales  Price Sensitivity         Email  \\\n",
       "count  20000.000000  20000.000000        1475.000000  20000.000000   \n",
       "mean   10000.500000      0.085750           3.792542      0.074450   \n",
       "std     5773.647028      0.280002           1.694535      0.262508   \n",
       "min        1.000000      0.000000           1.000000      0.000000   \n",
       "25%     5000.750000      0.000000                NaN      0.000000   \n",
       "50%    10000.500000      0.000000                NaN      0.000000   \n",
       "75%    15000.250000      0.000000                NaN      0.000000   \n",
       "max    20000.000000      1.000000           6.000000      1.000000   \n",
       "\n",
       "             Tenure  NumberofCampaigns    ProdActive    ProdBought  \\\n",
       "count  20000.000000       20000.000000  20000.000000  20000.000000   \n",
       "mean    2007.118950           3.709200      0.050700      0.320200   \n",
       "std        6.715032           4.156429      0.238186      0.706397   \n",
       "min     1990.000000           2.000000      0.000000      0.000000   \n",
       "25%     2004.000000           2.000000      0.000000      0.000000   \n",
       "50%     2010.000000           2.000000      0.000000      0.000000   \n",
       "75%     2012.000000           4.000000      0.000000      0.000000   \n",
       "max     2013.000000          32.000000      3.000000      6.000000   \n",
       "\n",
       "       Premium Offered    Birthdate     ...             Income     yearBuilt  \\\n",
       "count     20000.000000  9512.000000     ...       1.486000e+04  14865.000000   \n",
       "mean         13.831877  1966.409062     ...       5.802174e+04   1979.502657   \n",
       "std           2.774808    11.478364     ...       6.644060e+04     23.073381   \n",
       "min          11.120000  1944.000000     ...       2.190805e+03   1900.000000   \n",
       "25%          11.120000          NaN     ...                NaN           NaN   \n",
       "50%          14.500000          NaN     ...                NaN           NaN   \n",
       "75%          14.500000          NaN     ...                NaN           NaN   \n",
       "max          21.850000  1984.000000     ...       4.106372e+06   2012.000000   \n",
       "\n",
       "       House Insurance  Pension Plan        Credit       Savings  \\\n",
       "count     14860.000000  1.486000e+04  1.486000e+04  1.484500e+04   \n",
       "mean       7364.270664  3.728715e+04  1.696786e+04  3.055875e+04   \n",
       "std        8542.363258  4.239543e+04  1.945761e+04  7.872496e+04   \n",
       "min         186.013800  1.661723e+03  6.173887e+02  0.000000e+00   \n",
       "25%                NaN           NaN           NaN           NaN   \n",
       "50%                NaN           NaN           NaN           NaN   \n",
       "75%                NaN           NaN           NaN           NaN   \n",
       "max      527866.417800  2.620520e+06  1.202556e+06  4.884174e+06   \n",
       "\n",
       "       Number of Mobile Phones  Number of Fixed Lines         ADSL  \\\n",
       "count              7164.000000            7164.000000  7164.000000   \n",
       "mean                  1.504467               1.005444     0.502233   \n",
       "std                   1.120473               0.817475     0.500030   \n",
       "min                   0.000000               0.000000     0.000000   \n",
       "25%                        NaN                    NaN          NaN   \n",
       "50%                        NaN                    NaN          NaN   \n",
       "75%                        NaN                    NaN          NaN   \n",
       "max                   3.000000               2.000000     1.000000   \n",
       "\n",
       "        3G Devices  \n",
       "count  7164.000000  \n",
       "mean      0.503769  \n",
       "std       0.500021  \n",
       "min       0.000000  \n",
       "25%            NaN  \n",
       "50%            NaN  \n",
       "75%            NaN  \n",
       "max       1.000000  \n",
       "\n",
       "[8 rows x 23 columns]"
      ]
     },
     "execution_count": 10,
     "metadata": {},
     "output_type": "execute_result"
    }
   ],
   "source": [
    "db1.describe()"
   ]
  },
  {
   "cell_type": "code",
   "execution_count": 11,
   "metadata": {},
   "outputs": [
    {
     "name": "stderr",
     "output_type": "stream",
     "text": [
      "/usr/local/lib/python3.6/site-packages/numpy/lib/function_base.py:4274: RuntimeWarning: Invalid value encountered in percentile\n",
      "  interpolation=interpolation)\n"
     ]
    },
    {
     "data": {
      "text/html": [
       "<div>\n",
       "<table border=\"1\" class=\"dataframe\">\n",
       "  <thead>\n",
       "    <tr style=\"text-align: right;\">\n",
       "      <th></th>\n",
       "      <th>Obs</th>\n",
       "      <th>Price Sensitivity</th>\n",
       "      <th>Email</th>\n",
       "      <th>Tenure</th>\n",
       "      <th>NumberofCampaigns</th>\n",
       "      <th>ProdActive</th>\n",
       "      <th>ProdBought</th>\n",
       "      <th>Birthdate</th>\n",
       "      <th>Living Area (m^2)</th>\n",
       "      <th>House Price</th>\n",
       "      <th>Income</th>\n",
       "      <th>yearBuilt</th>\n",
       "      <th>House Insurance</th>\n",
       "      <th>Pension Plan</th>\n",
       "      <th>Credit</th>\n",
       "      <th>Savings</th>\n",
       "      <th>Number of Mobile Phones</th>\n",
       "      <th>Number of Fixed Lines</th>\n",
       "      <th>ADSL</th>\n",
       "      <th>3G Devices</th>\n",
       "    </tr>\n",
       "  </thead>\n",
       "  <tbody>\n",
       "    <tr>\n",
       "      <th>count</th>\n",
       "      <td>10000.00000</td>\n",
       "      <td>2694.000000</td>\n",
       "      <td>10000.000000</td>\n",
       "      <td>10000.000000</td>\n",
       "      <td>10000.000000</td>\n",
       "      <td>10000.000000</td>\n",
       "      <td>10000.00000</td>\n",
       "      <td>4541.000000</td>\n",
       "      <td>7831.000000</td>\n",
       "      <td>7.830000e+03</td>\n",
       "      <td>7.831000e+03</td>\n",
       "      <td>7831.000000</td>\n",
       "      <td>7831.000000</td>\n",
       "      <td>7.831000e+03</td>\n",
       "      <td>7.831000e+03</td>\n",
       "      <td>7.831000e+03</td>\n",
       "      <td>3760.000000</td>\n",
       "      <td>3760.000000</td>\n",
       "      <td>3760.000000</td>\n",
       "      <td>3760.000000</td>\n",
       "    </tr>\n",
       "    <tr>\n",
       "      <th>mean</th>\n",
       "      <td>5000.50000</td>\n",
       "      <td>3.399777</td>\n",
       "      <td>0.046900</td>\n",
       "      <td>2011.248300</td>\n",
       "      <td>3.571400</td>\n",
       "      <td>0.022300</td>\n",
       "      <td>0.24210</td>\n",
       "      <td>1966.269764</td>\n",
       "      <td>203.416630</td>\n",
       "      <td>2.198855e+05</td>\n",
       "      <td>6.002617e+04</td>\n",
       "      <td>1978.753288</td>\n",
       "      <td>7648.644968</td>\n",
       "      <td>3.849267e+04</td>\n",
       "      <td>1.756162e+04</td>\n",
       "      <td>3.229642e+04</td>\n",
       "      <td>1.520479</td>\n",
       "      <td>0.992287</td>\n",
       "      <td>0.509309</td>\n",
       "      <td>0.499202</td>\n",
       "    </tr>\n",
       "    <tr>\n",
       "      <th>std</th>\n",
       "      <td>2886.89568</td>\n",
       "      <td>1.766382</td>\n",
       "      <td>0.211435</td>\n",
       "      <td>5.019897</td>\n",
       "      <td>4.237747</td>\n",
       "      <td>0.156221</td>\n",
       "      <td>0.64802</td>\n",
       "      <td>11.597210</td>\n",
       "      <td>597.405984</td>\n",
       "      <td>3.112247e+05</td>\n",
       "      <td>8.546163e+04</td>\n",
       "      <td>23.229961</td>\n",
       "      <td>10987.924223</td>\n",
       "      <td>5.453266e+04</td>\n",
       "      <td>2.502805e+04</td>\n",
       "      <td>8.328343e+04</td>\n",
       "      <td>1.116566</td>\n",
       "      <td>0.813359</td>\n",
       "      <td>0.499980</td>\n",
       "      <td>0.500066</td>\n",
       "    </tr>\n",
       "    <tr>\n",
       "      <th>min</th>\n",
       "      <td>1.00000</td>\n",
       "      <td>1.000000</td>\n",
       "      <td>0.000000</td>\n",
       "      <td>1950.000000</td>\n",
       "      <td>2.000000</td>\n",
       "      <td>0.000000</td>\n",
       "      <td>0.00000</td>\n",
       "      <td>1944.000000</td>\n",
       "      <td>0.000000</td>\n",
       "      <td>7.057584e+03</td>\n",
       "      <td>1.580315e+03</td>\n",
       "      <td>1900.000000</td>\n",
       "      <td>134.177400</td>\n",
       "      <td>1.198663e+03</td>\n",
       "      <td>4.453454e+02</td>\n",
       "      <td>0.000000e+00</td>\n",
       "      <td>0.000000</td>\n",
       "      <td>0.000000</td>\n",
       "      <td>0.000000</td>\n",
       "      <td>0.000000</td>\n",
       "    </tr>\n",
       "    <tr>\n",
       "      <th>25%</th>\n",
       "      <td>2500.75000</td>\n",
       "      <td>NaN</td>\n",
       "      <td>0.000000</td>\n",
       "      <td>2012.000000</td>\n",
       "      <td>2.000000</td>\n",
       "      <td>0.000000</td>\n",
       "      <td>0.00000</td>\n",
       "      <td>NaN</td>\n",
       "      <td>NaN</td>\n",
       "      <td>NaN</td>\n",
       "      <td>NaN</td>\n",
       "      <td>NaN</td>\n",
       "      <td>NaN</td>\n",
       "      <td>NaN</td>\n",
       "      <td>NaN</td>\n",
       "      <td>NaN</td>\n",
       "      <td>NaN</td>\n",
       "      <td>NaN</td>\n",
       "      <td>NaN</td>\n",
       "      <td>NaN</td>\n",
       "    </tr>\n",
       "    <tr>\n",
       "      <th>50%</th>\n",
       "      <td>5000.50000</td>\n",
       "      <td>NaN</td>\n",
       "      <td>0.000000</td>\n",
       "      <td>2012.000000</td>\n",
       "      <td>2.000000</td>\n",
       "      <td>0.000000</td>\n",
       "      <td>0.00000</td>\n",
       "      <td>NaN</td>\n",
       "      <td>NaN</td>\n",
       "      <td>NaN</td>\n",
       "      <td>NaN</td>\n",
       "      <td>NaN</td>\n",
       "      <td>NaN</td>\n",
       "      <td>NaN</td>\n",
       "      <td>NaN</td>\n",
       "      <td>NaN</td>\n",
       "      <td>NaN</td>\n",
       "      <td>NaN</td>\n",
       "      <td>NaN</td>\n",
       "      <td>NaN</td>\n",
       "    </tr>\n",
       "    <tr>\n",
       "      <th>75%</th>\n",
       "      <td>7500.25000</td>\n",
       "      <td>NaN</td>\n",
       "      <td>0.000000</td>\n",
       "      <td>2013.000000</td>\n",
       "      <td>4.000000</td>\n",
       "      <td>0.000000</td>\n",
       "      <td>0.00000</td>\n",
       "      <td>NaN</td>\n",
       "      <td>NaN</td>\n",
       "      <td>NaN</td>\n",
       "      <td>NaN</td>\n",
       "      <td>NaN</td>\n",
       "      <td>NaN</td>\n",
       "      <td>NaN</td>\n",
       "      <td>NaN</td>\n",
       "      <td>NaN</td>\n",
       "      <td>NaN</td>\n",
       "      <td>NaN</td>\n",
       "      <td>NaN</td>\n",
       "      <td>NaN</td>\n",
       "    </tr>\n",
       "    <tr>\n",
       "      <th>max</th>\n",
       "      <td>10000.00000</td>\n",
       "      <td>6.000000</td>\n",
       "      <td>1.000000</td>\n",
       "      <td>2013.000000</td>\n",
       "      <td>34.000000</td>\n",
       "      <td>2.000000</td>\n",
       "      <td>5.00000</td>\n",
       "      <td>1984.000000</td>\n",
       "      <td>22943.212000</td>\n",
       "      <td>1.611964e+07</td>\n",
       "      <td>4.426344e+06</td>\n",
       "      <td>2012.000000</td>\n",
       "      <td>569032.313400</td>\n",
       "      <td>2.824619e+06</td>\n",
       "      <td>1.296269e+06</td>\n",
       "      <td>2.998083e+06</td>\n",
       "      <td>3.000000</td>\n",
       "      <td>2.000000</td>\n",
       "      <td>1.000000</td>\n",
       "      <td>1.000000</td>\n",
       "    </tr>\n",
       "  </tbody>\n",
       "</table>\n",
       "</div>"
      ],
      "text/plain": [
       "               Obs  Price Sensitivity         Email        Tenure  \\\n",
       "count  10000.00000        2694.000000  10000.000000  10000.000000   \n",
       "mean    5000.50000           3.399777      0.046900   2011.248300   \n",
       "std     2886.89568           1.766382      0.211435      5.019897   \n",
       "min        1.00000           1.000000      0.000000   1950.000000   \n",
       "25%     2500.75000                NaN      0.000000   2012.000000   \n",
       "50%     5000.50000                NaN      0.000000   2012.000000   \n",
       "75%     7500.25000                NaN      0.000000   2013.000000   \n",
       "max    10000.00000           6.000000      1.000000   2013.000000   \n",
       "\n",
       "       NumberofCampaigns    ProdActive   ProdBought    Birthdate  \\\n",
       "count       10000.000000  10000.000000  10000.00000  4541.000000   \n",
       "mean            3.571400      0.022300      0.24210  1966.269764   \n",
       "std             4.237747      0.156221      0.64802    11.597210   \n",
       "min             2.000000      0.000000      0.00000  1944.000000   \n",
       "25%             2.000000      0.000000      0.00000          NaN   \n",
       "50%             2.000000      0.000000      0.00000          NaN   \n",
       "75%             4.000000      0.000000      0.00000          NaN   \n",
       "max            34.000000      2.000000      5.00000  1984.000000   \n",
       "\n",
       "       Living Area (m^2)   House Price        Income    yearBuilt  \\\n",
       "count        7831.000000  7.830000e+03  7.831000e+03  7831.000000   \n",
       "mean          203.416630  2.198855e+05  6.002617e+04  1978.753288   \n",
       "std           597.405984  3.112247e+05  8.546163e+04    23.229961   \n",
       "min             0.000000  7.057584e+03  1.580315e+03  1900.000000   \n",
       "25%                  NaN           NaN           NaN          NaN   \n",
       "50%                  NaN           NaN           NaN          NaN   \n",
       "75%                  NaN           NaN           NaN          NaN   \n",
       "max         22943.212000  1.611964e+07  4.426344e+06  2012.000000   \n",
       "\n",
       "       House Insurance  Pension Plan        Credit       Savings  \\\n",
       "count      7831.000000  7.831000e+03  7.831000e+03  7.831000e+03   \n",
       "mean       7648.644968  3.849267e+04  1.756162e+04  3.229642e+04   \n",
       "std       10987.924223  5.453266e+04  2.502805e+04  8.328343e+04   \n",
       "min         134.177400  1.198663e+03  4.453454e+02  0.000000e+00   \n",
       "25%                NaN           NaN           NaN           NaN   \n",
       "50%                NaN           NaN           NaN           NaN   \n",
       "75%                NaN           NaN           NaN           NaN   \n",
       "max      569032.313400  2.824619e+06  1.296269e+06  2.998083e+06   \n",
       "\n",
       "       Number of Mobile Phones  Number of Fixed Lines         ADSL  \\\n",
       "count              3760.000000            3760.000000  3760.000000   \n",
       "mean                  1.520479               0.992287     0.509309   \n",
       "std                   1.116566               0.813359     0.499980   \n",
       "min                   0.000000               0.000000     0.000000   \n",
       "25%                        NaN                    NaN          NaN   \n",
       "50%                        NaN                    NaN          NaN   \n",
       "75%                        NaN                    NaN          NaN   \n",
       "max                   3.000000               2.000000     1.000000   \n",
       "\n",
       "        3G Devices  \n",
       "count  3760.000000  \n",
       "mean      0.499202  \n",
       "std       0.500066  \n",
       "min       0.000000  \n",
       "25%            NaN  \n",
       "50%            NaN  \n",
       "75%            NaN  \n",
       "max       1.000000  "
      ]
     },
     "execution_count": 11,
     "metadata": {},
     "output_type": "execute_result"
    }
   ],
   "source": [
    "db2.describe()"
   ]
  },
  {
   "cell_type": "markdown",
   "metadata": {},
   "source": [
    " ## Descriptive analysis ##\n",
    " \n",
    " With all the data available in the first database is extremely important to make a complete descriptive analysis of the variables to understand the type of information we are dealing with, which can give us an idea of which variables are relevants to solve our problem. "
   ]
  },
  {
   "cell_type": "markdown",
   "metadata": {},
   "source": [
    "For every single variable, we will run a single logistic regression to analyze its importance, and select only a subset of the features for our final model (there is a danger in this method: we may lose any effect due not to individual variables, but to the relationship between them)"
   ]
  },
  {
   "cell_type": "markdown",
   "metadata": {},
   "source": [
    "First, we separate the data into train and test sets"
   ]
  },
  {
   "cell_type": "code",
   "execution_count": 100,
   "metadata": {},
   "outputs": [],
   "source": [
    "db1_train, db1_test = train_test_split(db1.index, test_size=0.2, random_state=42)\n",
    "scores = {}"
   ]
  },
  {
   "cell_type": "markdown",
   "metadata": {},
   "source": [
    "### Price sensitivity ###\n",
    "\n",
    "It indicates the client's sensitivity to the price: 1 (less sensitive) - 6 (more sensitive) "
   ]
  },
  {
   "cell_type": "markdown",
   "metadata": {},
   "source": [
    "The clients without data in the *Price Sensitivity* feature have a lower probability of buying the insurance, so we have included them in the analysis with the value 7, making them the more sensible to the price"
   ]
  },
  {
   "cell_type": "code",
   "execution_count": 247,
   "metadata": {},
   "outputs": [
    {
     "data": {
      "application/vnd.plotly.v1+json": {
       "data": [
        {
         "error_y": {
          "array": [
           0.03526228256123774,
           0.030590303399196835,
           0.024844619049914286,
           0.024147399192278367,
           0.02704661124676308,
           0.020380142466350726,
           0.0019381412258345
          ],
          "type": "data",
          "visible": true
         },
         "name": "Sales probability",
         "type": "bar",
         "x": [
          1,
          2,
          3,
          4,
          5,
          6,
          7
         ],
         "y": [
          0.32,
          0.27906976744186046,
          0.19367588932806323,
          0.20848056537102475,
          0.17346938775510204,
          0.17847025495750707,
          0.07524966261808368
         ]
        }
       ],
       "layout": {
        "barmode": "group",
        "title": "Price Sensitivity. p-value: 0.000",
        "xaxis": {
         "title": "Price Sensitivity"
        },
        "yaxis": {
         "title": "Probability of sales"
        }
       }
      },
      "text/html": [
       "<div id=\"aa84e761-7eb9-4aa3-b31d-986383c7faaa\" style=\"height: 525px; width: 100%;\" class=\"plotly-graph-div\"></div><script type=\"text/javascript\">require([\"plotly\"], function(Plotly) { window.PLOTLYENV=window.PLOTLYENV || {};window.PLOTLYENV.BASE_URL=\"https://plot.ly\";Plotly.newPlot(\"aa84e761-7eb9-4aa3-b31d-986383c7faaa\", [{\"type\": \"bar\", \"x\": [1.0, 2.0, 3.0, 4.0, 5.0, 6.0, 7.0], \"y\": [0.32, 0.27906976744186046, 0.19367588932806323, 0.20848056537102475, 0.17346938775510204, 0.17847025495750707, 0.07524966261808368], \"name\": \"Sales probability\", \"error_y\": {\"type\": \"data\", \"array\": [0.03526228256123774, 0.030590303399196835, 0.024844619049914286, 0.024147399192278367, 0.02704661124676308, 0.020380142466350726, 0.0019381412258345], \"visible\": true}}], {\"barmode\": \"group\", \"title\": \"Price Sensitivity. p-value: 0.000\", \"yaxis\": {\"title\": \"Probability of sales\"}, \"xaxis\": {\"title\": \"Price Sensitivity\"}}, {\"showLink\": true, \"linkText\": \"Export to plot.ly\"})});</script>"
      ],
      "text/vnd.plotly.v1+html": [
       "<div id=\"aa84e761-7eb9-4aa3-b31d-986383c7faaa\" style=\"height: 525px; width: 100%;\" class=\"plotly-graph-div\"></div><script type=\"text/javascript\">require([\"plotly\"], function(Plotly) { window.PLOTLYENV=window.PLOTLYENV || {};window.PLOTLYENV.BASE_URL=\"https://plot.ly\";Plotly.newPlot(\"aa84e761-7eb9-4aa3-b31d-986383c7faaa\", [{\"type\": \"bar\", \"x\": [1.0, 2.0, 3.0, 4.0, 5.0, 6.0, 7.0], \"y\": [0.32, 0.27906976744186046, 0.19367588932806323, 0.20848056537102475, 0.17346938775510204, 0.17847025495750707, 0.07524966261808368], \"name\": \"Sales probability\", \"error_y\": {\"type\": \"data\", \"array\": [0.03526228256123774, 0.030590303399196835, 0.024844619049914286, 0.024147399192278367, 0.02704661124676308, 0.020380142466350726, 0.0019381412258345], \"visible\": true}}], {\"barmode\": \"group\", \"title\": \"Price Sensitivity. p-value: 0.000\", \"yaxis\": {\"title\": \"Probability of sales\"}, \"xaxis\": {\"title\": \"Price Sensitivity\"}}, {\"showLink\": true, \"linkText\": \"Export to plot.ly\"})});</script>"
      ]
     },
     "metadata": {},
     "output_type": "display_data"
    }
   ],
   "source": [
    "#db1.loc[np.isnan(db1['Price Sensitivity']), 'Price Sensitivity'] = 7\n",
    "scores['Price Sensitivity'], fig = analyze_feature('Price Sensitivity', db1, categorical=True)\n",
    "iplot(fig)"
   ]
  },
  {
   "cell_type": "markdown",
   "metadata": {},
   "source": [
    "### PhoneType ###\n",
    "\n",
    "Client's phone type: Fixed or Mobile"
   ]
  },
  {
   "cell_type": "code",
   "execution_count": 254,
   "metadata": {},
   "outputs": [
    {
     "name": "stdout",
     "output_type": "stream",
     "text": [
      "[[ 1.  0.  0.]\n",
      " [ 0.  1.  0.]\n",
      " [ 1.  0.  0.]\n",
      " ..., \n",
      " [ 1.  0.  0.]\n",
      " [ 1.  0.  0.]\n",
      " [ 0.  1.  0.]]\n"
     ]
    },
    {
     "data": {
      "application/vnd.plotly.v1+json": {
       "data": [
        {
         "error_y": {
          "array": [
           0.0030026970693490767,
           0.002590362233024248
          ],
          "type": "data",
          "visible": true
         },
         "name": "Sales probability",
         "type": "bar",
         "x": [
          "FIXED / LAND PHONE",
          "MOBILE PHONE"
         ],
         "y": [
          0.07018513401492125,
          0.09457765240557907
         ]
        }
       ],
       "layout": {
        "barmode": "group",
        "title": "PhoneType. p-value: 0.000",
        "xaxis": {
         "title": "PhoneType"
        },
        "yaxis": {
         "title": "Probability of sales"
        }
       }
      },
      "text/html": [
       "<div id=\"b1566e80-6ef7-4770-b774-9fa462f6ece1\" style=\"height: 525px; width: 100%;\" class=\"plotly-graph-div\"></div><script type=\"text/javascript\">require([\"plotly\"], function(Plotly) { window.PLOTLYENV=window.PLOTLYENV || {};window.PLOTLYENV.BASE_URL=\"https://plot.ly\";Plotly.newPlot(\"b1566e80-6ef7-4770-b774-9fa462f6ece1\", [{\"type\": \"bar\", \"x\": [\"FIXED / LAND PHONE\", \"MOBILE PHONE\"], \"y\": [0.07018513401492125, 0.09457765240557907], \"name\": \"Sales probability\", \"error_y\": {\"type\": \"data\", \"array\": [0.0030026970693490767, 0.002590362233024248], \"visible\": true}}], {\"barmode\": \"group\", \"title\": \"PhoneType. p-value: 0.000\", \"yaxis\": {\"title\": \"Probability of sales\"}, \"xaxis\": {\"title\": \"PhoneType\"}}, {\"showLink\": true, \"linkText\": \"Export to plot.ly\"})});</script>"
      ],
      "text/vnd.plotly.v1+html": [
       "<div id=\"b1566e80-6ef7-4770-b774-9fa462f6ece1\" style=\"height: 525px; width: 100%;\" class=\"plotly-graph-div\"></div><script type=\"text/javascript\">require([\"plotly\"], function(Plotly) { window.PLOTLYENV=window.PLOTLYENV || {};window.PLOTLYENV.BASE_URL=\"https://plot.ly\";Plotly.newPlot(\"b1566e80-6ef7-4770-b774-9fa462f6ece1\", [{\"type\": \"bar\", \"x\": [\"FIXED / LAND PHONE\", \"MOBILE PHONE\"], \"y\": [0.07018513401492125, 0.09457765240557907], \"name\": \"Sales probability\", \"error_y\": {\"type\": \"data\", \"array\": [0.0030026970693490767, 0.002590362233024248], \"visible\": true}}], {\"barmode\": \"group\", \"title\": \"PhoneType. p-value: 0.000\", \"yaxis\": {\"title\": \"Probability of sales\"}, \"xaxis\": {\"title\": \"PhoneType\"}}, {\"showLink\": true, \"linkText\": \"Export to plot.ly\"})});</script>"
      ]
     },
     "metadata": {},
     "output_type": "display_data"
    }
   ],
   "source": [
    "scores['PhoneType'], fig = analyze_feature('PhoneType', db1, categorical=True)\n",
    "iplot(fig)"
   ]
  },
  {
   "cell_type": "markdown",
   "metadata": {},
   "source": [
    "### Email ###\n",
    "\n",
    "It indicates whether the client's email is available: 1 (yes), 0 (otherwise)"
   ]
  },
  {
   "cell_type": "code",
   "execution_count": 226,
   "metadata": {},
   "outputs": [
    {
     "data": {
      "application/vnd.plotly.v1+json": {
       "data": [
        {
         "error_y": {
          "array": [
           0.0016631051595831926,
           0.012945939673483765
          ],
          "type": "data",
          "visible": true
         },
         "name": "Sales probability",
         "type": "bar",
         "x": [
          0,
          1
         ],
         "y": [
          0.05412997677056885,
          0.4788448623237072
         ]
        }
       ],
       "layout": {
        "barmode": "group",
        "title": "Email. Score: 0.063",
        "xaxis": {
         "title": "Email"
        },
        "yaxis": {
         "title": "Probability of sales"
        }
       }
      },
      "text/html": [
       "<div id=\"b3837bb2-535e-4292-83b6-583b65f542ef\" style=\"height: 525px; width: 100%;\" class=\"plotly-graph-div\"></div><script type=\"text/javascript\">require([\"plotly\"], function(Plotly) { window.PLOTLYENV=window.PLOTLYENV || {};window.PLOTLYENV.BASE_URL=\"https://plot.ly\";Plotly.newPlot(\"b3837bb2-535e-4292-83b6-583b65f542ef\", [{\"type\": \"bar\", \"x\": [0, 1], \"y\": [0.05412997677056885, 0.4788448623237072], \"name\": \"Sales probability\", \"error_y\": {\"type\": \"data\", \"array\": [0.0016631051595831926, 0.012945939673483765], \"visible\": true}}], {\"barmode\": \"group\", \"title\": \"Email. Score: 0.063\", \"yaxis\": {\"title\": \"Probability of sales\"}, \"xaxis\": {\"title\": \"Email\"}}, {\"showLink\": true, \"linkText\": \"Export to plot.ly\"})});</script>"
      ],
      "text/vnd.plotly.v1+html": [
       "<div id=\"b3837bb2-535e-4292-83b6-583b65f542ef\" style=\"height: 525px; width: 100%;\" class=\"plotly-graph-div\"></div><script type=\"text/javascript\">require([\"plotly\"], function(Plotly) { window.PLOTLYENV=window.PLOTLYENV || {};window.PLOTLYENV.BASE_URL=\"https://plot.ly\";Plotly.newPlot(\"b3837bb2-535e-4292-83b6-583b65f542ef\", [{\"type\": \"bar\", \"x\": [0, 1], \"y\": [0.05412997677056885, 0.4788448623237072], \"name\": \"Sales probability\", \"error_y\": {\"type\": \"data\", \"array\": [0.0016631051595831926, 0.012945939673483765], \"visible\": true}}], {\"barmode\": \"group\", \"title\": \"Email. Score: 0.063\", \"yaxis\": {\"title\": \"Probability of sales\"}, \"xaxis\": {\"title\": \"Email\"}}, {\"showLink\": true, \"linkText\": \"Export to plot.ly\"})});</script>"
      ]
     },
     "metadata": {},
     "output_type": "display_data"
    }
   ],
   "source": [
    "scores['Email'], fig = analyze_feature('Email', db1, db1_train, db1_test)\n",
    "iplot(fig)"
   ]
  },
  {
   "cell_type": "markdown",
   "metadata": {},
   "source": [
    "### Tenure ###\n",
    "\n",
    "Client's tenure (year when the person became a client of the company)"
   ]
  },
  {
   "cell_type": "code",
   "execution_count": 236,
   "metadata": {},
   "outputs": [
    {
     "data": {
      "application/vnd.plotly.v1+json": {
       "data": [
        {
         "error_y": {
          "array": [
           0.012156192445626166,
           0.01374958159429309,
           0.013167651910812723,
           0.011975733427116986,
           0.014581358907990541,
           0.014998856838012288,
           0.013433883102240193,
           0.014172534242032334,
           0.01150049693689271,
           0.011997280284885774,
           0.014107526195833485,
           0.014338662348628038,
           0.010474458731327633,
           0.012492582964908638,
           0.013716116836806366,
           0.014834338157456247,
           0.014190949208324302,
           0.015164218331733606,
           0.014694399631682604,
           0.006135535954210921,
           0.006289097371677856,
           0.0058895101903180674,
           0.005100352255477971,
           0.005156220923688412
          ],
          "type": "data",
          "visible": true
         },
         "name": "Sales probability",
         "type": "bar",
         "x": [
          1990,
          1991,
          1992,
          1993,
          1994,
          1995,
          1996,
          1997,
          1998,
          1999,
          2000,
          2001,
          2002,
          2003,
          2004,
          2005,
          2006,
          2007,
          2008,
          2009,
          2010,
          2011,
          2012,
          2013
         ],
         "y": [
          0.05737704918032787,
          0.07567567567567568,
          0.06231454005934718,
          0.05509641873278237,
          0.07894736842105263,
          0.08888888888888889,
          0.06963788300835655,
          0.07514450867052024,
          0.04559270516717325,
          0.05660377358490566,
          0.07627118644067797,
          0.08196721311475409,
          0.04,
          0.05604719764011799,
          0.07262569832402235,
          0.09210526315789473,
          0.0782122905027933,
          0.08383233532934131,
          0.0764525993883792,
          0.09384683488269145,
          0.09584664536741214,
          0.08344671201814059,
          0.09548192771084338,
          0.097708082026538
         ]
        }
       ],
       "layout": {
        "barmode": "group",
        "title": "Tenure. Score: 0.073",
        "xaxis": {
         "title": "Tenure"
        },
        "yaxis": {
         "title": "Probability of sales"
        }
       }
      },
      "text/html": [
       "<div id=\"603ac8a9-946d-4d60-8c38-f8406d7fbbdd\" style=\"height: 525px; width: 100%;\" class=\"plotly-graph-div\"></div><script type=\"text/javascript\">require([\"plotly\"], function(Plotly) { window.PLOTLYENV=window.PLOTLYENV || {};window.PLOTLYENV.BASE_URL=\"https://plot.ly\";Plotly.newPlot(\"603ac8a9-946d-4d60-8c38-f8406d7fbbdd\", [{\"type\": \"bar\", \"x\": [1990, 1991, 1992, 1993, 1994, 1995, 1996, 1997, 1998, 1999, 2000, 2001, 2002, 2003, 2004, 2005, 2006, 2007, 2008, 2009, 2010, 2011, 2012, 2013], \"y\": [0.05737704918032787, 0.07567567567567568, 0.06231454005934718, 0.05509641873278237, 0.07894736842105263, 0.08888888888888889, 0.06963788300835655, 0.07514450867052024, 0.04559270516717325, 0.05660377358490566, 0.07627118644067797, 0.08196721311475409, 0.04, 0.05604719764011799, 0.07262569832402235, 0.09210526315789473, 0.0782122905027933, 0.08383233532934131, 0.0764525993883792, 0.09384683488269145, 0.09584664536741214, 0.08344671201814059, 0.09548192771084338, 0.097708082026538], \"name\": \"Sales probability\", \"error_y\": {\"type\": \"data\", \"array\": [0.012156192445626166, 0.01374958159429309, 0.013167651910812723, 0.011975733427116986, 0.014581358907990541, 0.014998856838012288, 0.013433883102240193, 0.014172534242032334, 0.01150049693689271, 0.011997280284885774, 0.014107526195833485, 0.014338662348628038, 0.010474458731327633, 0.012492582964908638, 0.013716116836806366, 0.014834338157456247, 0.014190949208324302, 0.015164218331733606, 0.014694399631682604, 0.006135535954210921, 0.006289097371677856, 0.0058895101903180674, 0.005100352255477971, 0.005156220923688412], \"visible\": true}}], {\"barmode\": \"group\", \"title\": \"Tenure. Score: 0.073\", \"yaxis\": {\"title\": \"Probability of sales\"}, \"xaxis\": {\"title\": \"Tenure\"}}, {\"showLink\": true, \"linkText\": \"Export to plot.ly\"})});</script>"
      ],
      "text/vnd.plotly.v1+html": [
       "<div id=\"603ac8a9-946d-4d60-8c38-f8406d7fbbdd\" style=\"height: 525px; width: 100%;\" class=\"plotly-graph-div\"></div><script type=\"text/javascript\">require([\"plotly\"], function(Plotly) { window.PLOTLYENV=window.PLOTLYENV || {};window.PLOTLYENV.BASE_URL=\"https://plot.ly\";Plotly.newPlot(\"603ac8a9-946d-4d60-8c38-f8406d7fbbdd\", [{\"type\": \"bar\", \"x\": [1990, 1991, 1992, 1993, 1994, 1995, 1996, 1997, 1998, 1999, 2000, 2001, 2002, 2003, 2004, 2005, 2006, 2007, 2008, 2009, 2010, 2011, 2012, 2013], \"y\": [0.05737704918032787, 0.07567567567567568, 0.06231454005934718, 0.05509641873278237, 0.07894736842105263, 0.08888888888888889, 0.06963788300835655, 0.07514450867052024, 0.04559270516717325, 0.05660377358490566, 0.07627118644067797, 0.08196721311475409, 0.04, 0.05604719764011799, 0.07262569832402235, 0.09210526315789473, 0.0782122905027933, 0.08383233532934131, 0.0764525993883792, 0.09384683488269145, 0.09584664536741214, 0.08344671201814059, 0.09548192771084338, 0.097708082026538], \"name\": \"Sales probability\", \"error_y\": {\"type\": \"data\", \"array\": [0.012156192445626166, 0.01374958159429309, 0.013167651910812723, 0.011975733427116986, 0.014581358907990541, 0.014998856838012288, 0.013433883102240193, 0.014172534242032334, 0.01150049693689271, 0.011997280284885774, 0.014107526195833485, 0.014338662348628038, 0.010474458731327633, 0.012492582964908638, 0.013716116836806366, 0.014834338157456247, 0.014190949208324302, 0.015164218331733606, 0.014694399631682604, 0.006135535954210921, 0.006289097371677856, 0.0058895101903180674, 0.005100352255477971, 0.005156220923688412], \"visible\": true}}], {\"barmode\": \"group\", \"title\": \"Tenure. Score: 0.073\", \"yaxis\": {\"title\": \"Probability of sales\"}, \"xaxis\": {\"title\": \"Tenure\"}}, {\"showLink\": true, \"linkText\": \"Export to plot.ly\"})});</script>"
      ]
     },
     "metadata": {},
     "output_type": "display_data"
    }
   ],
   "source": [
    "scores['Tenure'], fig = analyze_feature('Tenure', db1, db1_train, db1_test)\n",
    "iplot(fig)"
   ]
  },
  {
   "cell_type": "markdown",
   "metadata": {},
   "source": [
    "### Number of Campaigns ###\n",
    "\n",
    "Number of times the client has been called"
   ]
  },
  {
   "cell_type": "code",
   "execution_count": 235,
   "metadata": {},
   "outputs": [
    {
     "data": {
      "application/vnd.plotly.v1+json": {
       "data": [
        {
         "error_y": {
          "array": [
           0.0023514738477354575,
           0.004830969390577546,
           0.005727717571728268,
           0.042948759817669234,
           0.04353366428090158,
           0.03854217996215617,
           0.03903182558554253,
           0.0338769591646303,
           0.025867735589977094,
           0.04356307205772432,
           0.04300307435189915,
           0.03249615361854384,
           0.02612947001872144,
           0.037901737767520954,
           0.05914847651505893,
           0
          ],
          "type": "data",
          "visible": true
         },
         "name": "Sales probability",
         "type": "bar",
         "x": [
          2,
          4,
          6,
          8,
          10,
          12,
          14,
          16,
          18,
          20,
          22,
          24,
          26,
          28,
          30,
          32
         ],
         "y": [
          0.08267716535433071,
          0.06272330289797538,
          0.09700374531835206,
          0.14705882352941177,
          0.14925373134328357,
          0.11594202898550725,
          0.14634146341463414,
          0.18796992481203006,
          0.13636363636363635,
          0.23958333333333334,
          0.21739130434782608,
          0.12,
          0.07692307692307693,
          0.10606060606060606,
          0.14285714285714285,
          0
         ]
        }
       ],
       "layout": {
        "barmode": "group",
        "title": "NumberofCampaigns. Score: 0.092",
        "xaxis": {
         "title": "NumberofCampaigns"
        },
        "yaxis": {
         "title": "Probability of sales"
        }
       }
      },
      "text/html": [
       "<div id=\"e43a4614-aab0-4735-ae6a-e36e47284213\" style=\"height: 525px; width: 100%;\" class=\"plotly-graph-div\"></div><script type=\"text/javascript\">require([\"plotly\"], function(Plotly) { window.PLOTLYENV=window.PLOTLYENV || {};window.PLOTLYENV.BASE_URL=\"https://plot.ly\";Plotly.newPlot(\"e43a4614-aab0-4735-ae6a-e36e47284213\", [{\"type\": \"bar\", \"x\": [2, 4, 6, 8, 10, 12, 14, 16, 18, 20, 22, 24, 26, 28, 30, 32], \"y\": [0.08267716535433071, 0.06272330289797538, 0.09700374531835206, 0.14705882352941177, 0.14925373134328357, 0.11594202898550725, 0.14634146341463414, 0.18796992481203006, 0.13636363636363635, 0.23958333333333334, 0.21739130434782608, 0.12, 0.07692307692307693, 0.10606060606060606, 0.14285714285714285, 0.0], \"name\": \"Sales probability\", \"error_y\": {\"type\": \"data\", \"array\": [0.0023514738477354575, 0.004830969390577546, 0.005727717571728268, 0.042948759817669234, 0.04353366428090158, 0.03854217996215617, 0.03903182558554253, 0.0338769591646303, 0.025867735589977094, 0.04356307205772432, 0.04300307435189915, 0.03249615361854384, 0.02612947001872144, 0.037901737767520954, 0.05914847651505893, 0.0], \"visible\": true}}], {\"barmode\": \"group\", \"title\": \"NumberofCampaigns. Score: 0.092\", \"yaxis\": {\"title\": \"Probability of sales\"}, \"xaxis\": {\"title\": \"NumberofCampaigns\"}}, {\"showLink\": true, \"linkText\": \"Export to plot.ly\"})});</script>"
      ],
      "text/vnd.plotly.v1+html": [
       "<div id=\"e43a4614-aab0-4735-ae6a-e36e47284213\" style=\"height: 525px; width: 100%;\" class=\"plotly-graph-div\"></div><script type=\"text/javascript\">require([\"plotly\"], function(Plotly) { window.PLOTLYENV=window.PLOTLYENV || {};window.PLOTLYENV.BASE_URL=\"https://plot.ly\";Plotly.newPlot(\"e43a4614-aab0-4735-ae6a-e36e47284213\", [{\"type\": \"bar\", \"x\": [2, 4, 6, 8, 10, 12, 14, 16, 18, 20, 22, 24, 26, 28, 30, 32], \"y\": [0.08267716535433071, 0.06272330289797538, 0.09700374531835206, 0.14705882352941177, 0.14925373134328357, 0.11594202898550725, 0.14634146341463414, 0.18796992481203006, 0.13636363636363635, 0.23958333333333334, 0.21739130434782608, 0.12, 0.07692307692307693, 0.10606060606060606, 0.14285714285714285, 0.0], \"name\": \"Sales probability\", \"error_y\": {\"type\": \"data\", \"array\": [0.0023514738477354575, 0.004830969390577546, 0.005727717571728268, 0.042948759817669234, 0.04353366428090158, 0.03854217996215617, 0.03903182558554253, 0.0338769591646303, 0.025867735589977094, 0.04356307205772432, 0.04300307435189915, 0.03249615361854384, 0.02612947001872144, 0.037901737767520954, 0.05914847651505893, 0.0], \"visible\": true}}], {\"barmode\": \"group\", \"title\": \"NumberofCampaigns. Score: 0.092\", \"yaxis\": {\"title\": \"Probability of sales\"}, \"xaxis\": {\"title\": \"NumberofCampaigns\"}}, {\"showLink\": true, \"linkText\": \"Export to plot.ly\"})});</script>"
      ]
     },
     "metadata": {},
     "output_type": "display_data"
    }
   ],
   "source": [
    "scores['NumberofCampaigns'], fig = analyze_feature('NumberofCampaigns', db1, db1_train, db1_test)\n",
    "iplot(fig)"
   ]
  },
  {
   "cell_type": "code",
   "execution_count": null,
   "metadata": {},
   "outputs": [],
   "source": []
  }
 ],
 "metadata": {
  "kernelspec": {
   "display_name": "Python 3",
   "language": "python",
   "name": "python3"
  },
  "language_info": {
   "codemirror_mode": {
    "name": "ipython",
    "version": 3
   },
   "file_extension": ".py",
   "mimetype": "text/x-python",
   "name": "python",
   "nbconvert_exporter": "python",
   "pygments_lexer": "ipython3",
   "version": "3.6.2"
  }
 },
 "nbformat": 4,
 "nbformat_minor": 2
}
